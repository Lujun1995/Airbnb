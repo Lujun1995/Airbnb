{
 "cells": [
  {
   "cell_type": "markdown",
   "metadata": {},
   "source": [
    "# Using data to understand the difference of AirBnB rental markets between Seattle and Boston\n"
   ]
  },
  {
   "cell_type": "markdown",
   "metadata": {},
   "source": [
    "## Packages"
   ]
  },
  {
   "cell_type": "code",
   "execution_count": 1,
   "metadata": {},
   "outputs": [],
   "source": [
    "import numpy as np\n",
    "import pandas as pd \n",
    "import matplotlib.pyplot as plt\n",
    "import seaborn as sns\n",
    "from sklearn.linear_model import ElasticNetCV\n",
    "from sklearn.metrics import r2_score, mean_squared_error\n",
    "from sklearn.linear_model import LinearRegression\n",
    "from sklearn.model_selection import train_test_split\n",
    "%matplotlib inline"
   ]
  },
  {
   "cell_type": "markdown",
   "metadata": {},
   "source": [
    "## Overview\n",
    "In this project, I aimed to compare the AirBnB rental markets of Seattle and Boston by using the AirBnB data from the kaggle. Mainly, I plotted the distribution of the price of two cities to see if there is any difference. In additon, I also built a model to predict the price by using the variables of interest."
   ]
  },
  {
   "cell_type": "markdown",
   "metadata": {},
   "source": [
    "## CRISP-DM process"
   ]
  },
  {
   "cell_type": "markdown",
   "metadata": {},
   "source": [
    "## Q1 Are rental markets in Boston and Seattle different?\n",
    "### Business Understanding\n",
    "Nowadays, AirBnB rental is a growing market. We are interested in comparing the AirBnB rental markets of two different cities to see what's the role of location (city) playing in the price.\n",
    "### Data Understanding\n",
    "As we have prices of all homes of two cities, we can plot the distribution of prices to see the difference. "
   ]
  },
  {
   "cell_type": "markdown",
   "metadata": {},
   "source": [
    "### Data preparation"
   ]
  },
  {
   "cell_type": "markdown",
   "metadata": {},
   "source": [
    "#### Read in the data"
   ]
  },
  {
   "cell_type": "code",
   "execution_count": 2,
   "metadata": {},
   "outputs": [],
   "source": [
    "Boston_listing = pd.read_csv(\"./data/boston/listings.csv\", na_values = \"N/A\")\n",
    "Seattle_listing = pd.read_csv(\"./data/seattle/listings.csv\", na_values = \"N/A\")"
   ]
  },
  {
   "cell_type": "code",
   "execution_count": 3,
   "metadata": {},
   "outputs": [
    {
     "data": {
      "text/plain": [
       "(3585, 95)"
      ]
     },
     "execution_count": 3,
     "metadata": {},
     "output_type": "execute_result"
    }
   ],
   "source": [
    "Boston_listing.shape"
   ]
  },
  {
   "cell_type": "code",
   "execution_count": 4,
   "metadata": {},
   "outputs": [
    {
     "data": {
      "text/plain": [
       "(3818, 92)"
      ]
     },
     "execution_count": 4,
     "metadata": {},
     "output_type": "execute_result"
    }
   ],
   "source": [
    "Seattle_listing.shape"
   ]
  },
  {
   "cell_type": "code",
   "execution_count": 5,
   "metadata": {},
   "outputs": [],
   "source": [
    "Boston_listing[\"city\"] = \"Boston\"\n",
    "Seattle_listing[\"city\"] = \"Seattle\""
   ]
  },
  {
   "cell_type": "markdown",
   "metadata": {},
   "source": [
    "#### Merge two datasets"
   ]
  },
  {
   "cell_type": "code",
   "execution_count": 6,
   "metadata": {},
   "outputs": [],
   "source": [
    "data = pd.concat([Boston_listing, Seattle_listing], join=\"inner\")"
   ]
  },
  {
   "cell_type": "code",
   "execution_count": 7,
   "metadata": {},
   "outputs": [
    {
     "data": {
      "text/plain": [
       "(7403, 92)"
      ]
     },
     "execution_count": 7,
     "metadata": {},
     "output_type": "execute_result"
    }
   ],
   "source": [
    "data.shape"
   ]
  },
  {
   "cell_type": "markdown",
   "metadata": {},
   "source": [
    "#### Select variables of interest"
   ]
  },
  {
   "cell_type": "code",
   "execution_count": 8,
   "metadata": {},
   "outputs": [],
   "source": [
    "interest_vars = [\"host_location\", \"host_response_time\", \"host_response_rate\", \"host_acceptance_rate\", \n",
    "                \"host_listings_count\", \"property_type\", \"room_type\", \"accommodates\", \"bathrooms\",\n",
    "                \"bedrooms\", \"beds\", \"bed_type\", \"square_feet\", \"price\", \"weekly_price\", \"monthly_price\", \n",
    "                 \"security_deposit\", \"cleaning_fee\", \"guests_included\", \"extra_people\", \"cancellation_policy\",\n",
    "                \"review_scores_rating\", \"city\"]"
   ]
  },
  {
   "cell_type": "code",
   "execution_count": 9,
   "metadata": {},
   "outputs": [],
   "source": [
    "data_select = data[interest_vars]"
   ]
  },
  {
   "cell_type": "markdown",
   "metadata": {},
   "source": [
    "#### Drop variables contained too many NA"
   ]
  },
  {
   "cell_type": "code",
   "execution_count": 10,
   "metadata": {},
   "outputs": [
    {
     "data": {
      "image/png": "[encoded data removed]",
      "text/plain": [
       "<Figure size 432x288 with 1 Axes>"
      ]
     },
     "metadata": {
      "needs_background": "light"
     },
     "output_type": "display_data"
    }
   ],
   "source": [
    "null_num = data_select.isnull().mean()\n",
    "null_num.hist();"
   ]
  },
  {
   "cell_type": "code",
   "execution_count": 11,
   "metadata": {},
   "outputs": [],
   "source": [
    "drop_list = null_num[null_num >= 0.2]"
   ]
  },
  {
   "cell_type": "code",
   "execution_count": 12,
   "metadata": {},
   "outputs": [
    {
     "data": {
      "text/plain": [
       "['square_feet',\n",
       " 'weekly_price',\n",
       " 'monthly_price',\n",
       " 'security_deposit',\n",
       " 'cleaning_fee']"
      ]
     },
     "execution_count": 12,
     "metadata": {},
     "output_type": "execute_result"
    }
   ],
   "source": [
    "drop_list.index.tolist()"
   ]
  },
  {
   "cell_type": "code",
   "execution_count": 13,
   "metadata": {},
   "outputs": [],
   "source": [
    "data_select = data_select.drop(drop_list.index, axis=1)"
   ]
  },
  {
   "cell_type": "code",
   "execution_count": 14,
   "metadata": {},
   "outputs": [
    {
     "data": {
      "text/plain": [
       "Index(['host_location', 'host_response_time', 'host_response_rate',\n",
       "       'host_acceptance_rate', 'host_listings_count', 'property_type',\n",
       "       'room_type', 'accommodates', 'bathrooms', 'bedrooms', 'beds',\n",
       "       'bed_type', 'price', 'guests_included', 'extra_people',\n",
       "       'cancellation_policy', 'review_scores_rating', 'city'],\n",
       "      dtype='object')"
      ]
     },
     "execution_count": 14,
     "metadata": {},
     "output_type": "execute_result"
    }
   ],
   "source": [
    "data_select.columns"
   ]
  },
  {
   "cell_type": "code",
   "execution_count": 15,
   "metadata": {},
   "outputs": [
    {
     "data": {
      "text/plain": [
       "(7403, 18)"
      ]
     },
     "execution_count": 15,
     "metadata": {},
     "output_type": "execute_result"
    }
   ],
   "source": [
    "data_select.shape"
   ]
  },
  {
   "cell_type": "markdown",
   "metadata": {},
   "source": [
    "#### Change character columns into numeric columns"
   ]
  },
  {
   "cell_type": "code",
   "execution_count": 16,
   "metadata": {},
   "outputs": [],
   "source": [
    "def char_to_num(col):\n",
    "    ''' Input one character price column and return a numeric column '''\n",
    "    col.replace(regex=True,inplace=True,to_replace=r'\\D',value=r'')\n",
    "    new_col = col.apply(pd.to_numeric)\n",
    "    return new_col\n",
    "    \n",
    "\n",
    "data_select.price = char_to_num(data_select.price) / 100\n",
    "data_select.extra_people = char_to_num(data_select.extra_people) / 100\n",
    "data_select.host_acceptance_rate = char_to_num(data_select.host_acceptance_rate)\n",
    "data_select.host_response_rate = char_to_num(data_select.host_response_rate)"
   ]
  },
  {
   "cell_type": "markdown",
   "metadata": {},
   "source": [
    "#### Histogram of the price"
   ]
  },
  {
   "cell_type": "code",
   "execution_count": 17,
   "metadata": {},
   "outputs": [
    {
     "name": "stderr",
     "output_type": "stream",
     "text": [
      "/anaconda3/lib/python3.7/site-packages/scipy/stats/stats.py:1713: FutureWarning: Using a non-tuple sequence for multidimensional indexing is deprecated; use `arr[tuple(seq)]` instead of `arr[seq]`. In the future this will be interpreted as an array index, `arr[np.array(seq)]`, which will result either in an error or a different result.\n",
      "  return np.add.reduce(sorted[indexer] * weights, axis=axis) / sumval\n"
     ]
    },
    {
     "data": {
      "image/png": "[encoded data removed]",
      "text/plain": [
       "<Figure size 1000x500 with 2 Axes>"
      ]
     },
     "metadata": {
      "needs_background": "light"
     },
     "output_type": "display_data"
    }
   ],
   "source": [
    "fig, axes = plt.subplots(1, 2, figsize=(10, 5), sharey=True, dpi=100)\n",
    "x1 = data_select.loc[(data_select.city=='Boston', 'price')]\n",
    "x2 = data_select.loc[(data_select.city=='Seattle', 'price')]\n",
    "bins=np.linspace(data_select.price.min(), data_select.price.max(), 100)\n",
    "sns.distplot(x1 , color=\"dodgerblue\", ax=axes[0],bins = bins, axlabel='Boston')\n",
    "axes[0].set_xlim([0, 1500]);\n",
    "sns.distplot(x2 , color=\"deeppink\", ax=axes[1],bins = bins, axlabel='Seattle')\n",
    "axes[1].set_xlim([0, 1500]);\n",
    "for tick in axes[0].get_xticklabels():\n",
    "    tick.set_rotation(30)\n",
    "for tick in axes[1].get_xticklabels():\n",
    "    tick.set_rotation(30)\n",
    "fig.suptitle('Distributions of Price in Boston and Seattle', fontsize=15)\n",
    "axes[0].title.set_text('Boston')\n",
    "axes[1].title.set_text('Seattle')\n",
    "axes[0].set_xlabel('Price')\n",
    "axes[1].set_xlabel('Price')\n",
    "axes[0].set_ylabel('Frequency');"
   ]
  },
  {
   "cell_type": "markdown",
   "metadata": {},
   "source": [
    "#### Boxplots of the price"
   ]
  },
  {
   "cell_type": "code",
   "execution_count": 18,
   "metadata": {},
   "outputs": [
    {
     "data": {
      "text/plain": [
       "Text(0.5, 1.0, 'Boxplots of Price in Boston and Seattle')"
      ]
     },
     "execution_count": 18,
     "metadata": {},
     "output_type": "execute_result"
    },
    {
     "data": {
      "image/png": "[encoded data removed]",
      "text/plain": [
       "<Figure size 720x360 with 1 Axes>"
      ]
     },
     "metadata": {},
     "output_type": "display_data"
    }
   ],
   "source": [
    "sns.set(font_scale=1.2)\n",
    "sns.set_style(\"whitegrid\")\n",
    "plt.figure(figsize=(10,5))\n",
    "my_pal = {\"Boston\": \"dodgerblue\", \"Seattle\": \"deeppink\"}\n",
    "fig_box = sns.boxplot(x=\"city\", y=\"price\", data=data_select, palette=my_pal, width=0.3)\n",
    "fig_box.set_ylim([0, 500]);\n",
    "fig_box.set_xlabel(\"City\", fontsize = 15)\n",
    "fig_box.set_ylabel(\"Price\", fontsize = 15)\n",
    "fig_box.set_title(\"Boxplots of Price in Boston and Seattle\", fontsize = 18)"
   ]
  },
  {
   "cell_type": "markdown",
   "metadata": {},
   "source": [
    "#### Descriptive Statistics"
   ]
  },
  {
   "cell_type": "code",
   "execution_count": 19,
   "metadata": {},
   "outputs": [
    {
     "name": "stderr",
     "output_type": "stream",
     "text": [
      "/anaconda3/lib/python3.7/site-packages/pandas/core/groupby/groupby.py:4656: FutureWarning: using a dict with renaming is deprecated and will be removed in a future version\n",
      "  return super(DataFrameGroupBy, self).aggregate(arg, *args, **kwargs)\n"
     ]
    },
    {
     "data": {
      "text/html": [
       "<div>\n",
       "<style scoped>\n",
       "    .dataframe tbody tr th:only-of-type {\n",
       "        vertical-align: middle;\n",
       "    }\n",
       "\n",
       "    .dataframe tbody tr th {\n",
       "        vertical-align: top;\n",
       "    }\n",
       "\n",
       "    .dataframe thead tr th {\n",
       "        text-align: left;\n",
       "    }\n",
       "\n",
       "    .dataframe thead tr:last-of-type th {\n",
       "        text-align: right;\n",
       "    }\n",
       "</style>\n",
       "<table border=\"1\" class=\"dataframe\">\n",
       "  <thead>\n",
       "    <tr>\n",
       "      <th></th>\n",
       "      <th colspan=\"5\" halign=\"left\">price</th>\n",
       "    </tr>\n",
       "    <tr>\n",
       "      <th></th>\n",
       "      <th>N</th>\n",
       "      <th>min</th>\n",
       "      <th>max</th>\n",
       "      <th>mean</th>\n",
       "      <th>median</th>\n",
       "    </tr>\n",
       "    <tr>\n",
       "      <th>city</th>\n",
       "      <th></th>\n",
       "      <th></th>\n",
       "      <th></th>\n",
       "      <th></th>\n",
       "      <th></th>\n",
       "    </tr>\n",
       "  </thead>\n",
       "  <tbody>\n",
       "    <tr>\n",
       "      <th>Boston</th>\n",
       "      <td>3585</td>\n",
       "      <td>10.0</td>\n",
       "      <td>4000.0</td>\n",
       "      <td>173.93</td>\n",
       "      <td>150.0</td>\n",
       "    </tr>\n",
       "    <tr>\n",
       "      <th>Seattle</th>\n",
       "      <td>3818</td>\n",
       "      <td>20.0</td>\n",
       "      <td>1000.0</td>\n",
       "      <td>127.98</td>\n",
       "      <td>100.0</td>\n",
       "    </tr>\n",
       "  </tbody>\n",
       "</table>\n",
       "</div>"
      ],
      "text/plain": [
       "        price                             \n",
       "            N   min     max    mean median\n",
       "city                                      \n",
       "Boston   3585  10.0  4000.0  173.93  150.0\n",
       "Seattle  3818  20.0  1000.0  127.98  100.0"
      ]
     },
     "execution_count": 19,
     "metadata": {},
     "output_type": "execute_result"
    }
   ],
   "source": [
    "aggregation = {\"price\":{\"N\": \"count\",\n",
    "                        \"min\": \"min\",\n",
    "                        \"max\": \"max\",\n",
    "                       \"mean\": \"mean\",\n",
    "                       \"median\": \"median\"}\n",
    "              }\n",
    "\n",
    "table = pd.DataFrame(data_select.groupby(\"city\").agg(aggregation)).round(2)\n",
    "table"
   ]
  },
  {
   "cell_type": "markdown",
   "metadata": {},
   "source": [
    "### Evaluate the Results\n",
    "* The distributions of price of AirBNB in Seattle and Bostion are different. \n",
    "* Althogh they are both right-skewd which means there are some AirBNB homes much larger than the bulk of the homes (some large value greater than 300 dollars), the distribution of price in Seattle is more right-skewed.\n",
    "\n",
    "* The mean of price of AirBNB homes in Boston is much higher than that in Seattle. Compared to Seattle, there are more homes with price higher than $200 in Boston."
   ]
  },
  {
   "cell_type": "markdown",
   "metadata": {},
   "source": [
    "## Q2 What's the difference in price between different property type in two cities? \n",
    "### Business Understanding\n",
    "After comparing the distributions of prices of two cities, we had a broad picture of difference. However, we also want to know the detailed difference in price in each property in two cities.\n",
    "\n",
    "### Data Understanding\n",
    "As we have the price and property type of each home in two cities, we can make boxplots and calculate some descriptive statistics to see the difference. \n",
    "###  Prepare Data"
   ]
  },
  {
   "cell_type": "code",
   "execution_count": 20,
   "metadata": {},
   "outputs": [
    {
     "data": {
      "text/html": [
       "<div>\n",
       "<style scoped>\n",
       "    .dataframe tbody tr th:only-of-type {\n",
       "        vertical-align: middle;\n",
       "    }\n",
       "\n",
       "    .dataframe tbody tr th {\n",
       "        vertical-align: top;\n",
       "    }\n",
       "\n",
       "    .dataframe thead tr th {\n",
       "        text-align: left;\n",
       "    }\n",
       "\n",
       "    .dataframe thead tr:last-of-type th {\n",
       "        text-align: right;\n",
       "    }\n",
       "</style>\n",
       "<table border=\"1\" class=\"dataframe\">\n",
       "  <thead>\n",
       "    <tr>\n",
       "      <th></th>\n",
       "      <th></th>\n",
       "      <th colspan=\"5\" halign=\"left\">price</th>\n",
       "    </tr>\n",
       "    <tr>\n",
       "      <th></th>\n",
       "      <th></th>\n",
       "      <th>N</th>\n",
       "      <th>min</th>\n",
       "      <th>max</th>\n",
       "      <th>mean</th>\n",
       "      <th>median</th>\n",
       "    </tr>\n",
       "    <tr>\n",
       "      <th>city</th>\n",
       "      <th>property_type</th>\n",
       "      <th></th>\n",
       "      <th></th>\n",
       "      <th></th>\n",
       "      <th></th>\n",
       "      <th></th>\n",
       "    </tr>\n",
       "  </thead>\n",
       "  <tbody>\n",
       "    <tr>\n",
       "      <th rowspan=\"13\" valign=\"top\">Boston</th>\n",
       "      <th>Apartment</th>\n",
       "      <td>2612</td>\n",
       "      <td>10.0</td>\n",
       "      <td>4000.0</td>\n",
       "      <td>181.97</td>\n",
       "      <td>159.0</td>\n",
       "    </tr>\n",
       "    <tr>\n",
       "      <th>Bed &amp; Breakfast</th>\n",
       "      <td>41</td>\n",
       "      <td>44.0</td>\n",
       "      <td>350.0</td>\n",
       "      <td>129.37</td>\n",
       "      <td>100.0</td>\n",
       "    </tr>\n",
       "    <tr>\n",
       "      <th>Boat</th>\n",
       "      <td>12</td>\n",
       "      <td>175.0</td>\n",
       "      <td>425.0</td>\n",
       "      <td>268.83</td>\n",
       "      <td>262.5</td>\n",
       "    </tr>\n",
       "    <tr>\n",
       "      <th>Camper/RV</th>\n",
       "      <td>1</td>\n",
       "      <td>60.0</td>\n",
       "      <td>60.0</td>\n",
       "      <td>60.00</td>\n",
       "      <td>60.0</td>\n",
       "    </tr>\n",
       "    <tr>\n",
       "      <th>Condominium</th>\n",
       "      <td>231</td>\n",
       "      <td>30.0</td>\n",
       "      <td>700.0</td>\n",
       "      <td>190.25</td>\n",
       "      <td>160.0</td>\n",
       "    </tr>\n",
       "    <tr>\n",
       "      <th>Dorm</th>\n",
       "      <td>2</td>\n",
       "      <td>50.0</td>\n",
       "      <td>75.0</td>\n",
       "      <td>62.50</td>\n",
       "      <td>62.5</td>\n",
       "    </tr>\n",
       "    <tr>\n",
       "      <th>Entire Floor</th>\n",
       "      <td>4</td>\n",
       "      <td>80.0</td>\n",
       "      <td>155.0</td>\n",
       "      <td>122.00</td>\n",
       "      <td>126.5</td>\n",
       "    </tr>\n",
       "    <tr>\n",
       "      <th>Guesthouse</th>\n",
       "      <td>1</td>\n",
       "      <td>289.0</td>\n",
       "      <td>289.0</td>\n",
       "      <td>289.00</td>\n",
       "      <td>289.0</td>\n",
       "    </tr>\n",
       "    <tr>\n",
       "      <th>House</th>\n",
       "      <td>562</td>\n",
       "      <td>20.0</td>\n",
       "      <td>1300.0</td>\n",
       "      <td>131.60</td>\n",
       "      <td>84.5</td>\n",
       "    </tr>\n",
       "    <tr>\n",
       "      <th>Loft</th>\n",
       "      <td>39</td>\n",
       "      <td>30.0</td>\n",
       "      <td>500.0</td>\n",
       "      <td>185.41</td>\n",
       "      <td>166.0</td>\n",
       "    </tr>\n",
       "    <tr>\n",
       "      <th>Other</th>\n",
       "      <td>17</td>\n",
       "      <td>40.0</td>\n",
       "      <td>500.0</td>\n",
       "      <td>229.94</td>\n",
       "      <td>218.0</td>\n",
       "    </tr>\n",
       "    <tr>\n",
       "      <th>Townhouse</th>\n",
       "      <td>54</td>\n",
       "      <td>44.0</td>\n",
       "      <td>700.0</td>\n",
       "      <td>149.04</td>\n",
       "      <td>99.0</td>\n",
       "    </tr>\n",
       "    <tr>\n",
       "      <th>Villa</th>\n",
       "      <td>6</td>\n",
       "      <td>40.0</td>\n",
       "      <td>400.0</td>\n",
       "      <td>189.50</td>\n",
       "      <td>170.0</td>\n",
       "    </tr>\n",
       "    <tr>\n",
       "      <th rowspan=\"16\" valign=\"top\">Seattle</th>\n",
       "      <th>Apartment</th>\n",
       "      <td>1708</td>\n",
       "      <td>20.0</td>\n",
       "      <td>999.0</td>\n",
       "      <td>122.93</td>\n",
       "      <td>110.0</td>\n",
       "    </tr>\n",
       "    <tr>\n",
       "      <th>Bed &amp; Breakfast</th>\n",
       "      <td>37</td>\n",
       "      <td>30.0</td>\n",
       "      <td>299.0</td>\n",
       "      <td>112.05</td>\n",
       "      <td>99.0</td>\n",
       "    </tr>\n",
       "    <tr>\n",
       "      <th>Boat</th>\n",
       "      <td>8</td>\n",
       "      <td>75.0</td>\n",
       "      <td>775.0</td>\n",
       "      <td>282.38</td>\n",
       "      <td>150.0</td>\n",
       "    </tr>\n",
       "    <tr>\n",
       "      <th>Bungalow</th>\n",
       "      <td>13</td>\n",
       "      <td>65.0</td>\n",
       "      <td>349.0</td>\n",
       "      <td>115.62</td>\n",
       "      <td>95.0</td>\n",
       "    </tr>\n",
       "    <tr>\n",
       "      <th>Cabin</th>\n",
       "      <td>21</td>\n",
       "      <td>52.0</td>\n",
       "      <td>300.0</td>\n",
       "      <td>104.67</td>\n",
       "      <td>95.0</td>\n",
       "    </tr>\n",
       "    <tr>\n",
       "      <th>Camper/RV</th>\n",
       "      <td>13</td>\n",
       "      <td>45.0</td>\n",
       "      <td>375.0</td>\n",
       "      <td>120.46</td>\n",
       "      <td>82.0</td>\n",
       "    </tr>\n",
       "    <tr>\n",
       "      <th>Chalet</th>\n",
       "      <td>2</td>\n",
       "      <td>62.0</td>\n",
       "      <td>135.0</td>\n",
       "      <td>98.50</td>\n",
       "      <td>98.5</td>\n",
       "    </tr>\n",
       "    <tr>\n",
       "      <th>Condominium</th>\n",
       "      <td>91</td>\n",
       "      <td>50.0</td>\n",
       "      <td>700.0</td>\n",
       "      <td>151.11</td>\n",
       "      <td>115.0</td>\n",
       "    </tr>\n",
       "    <tr>\n",
       "      <th>Dorm</th>\n",
       "      <td>2</td>\n",
       "      <td>38.0</td>\n",
       "      <td>41.0</td>\n",
       "      <td>39.50</td>\n",
       "      <td>39.5</td>\n",
       "    </tr>\n",
       "    <tr>\n",
       "      <th>House</th>\n",
       "      <td>1733</td>\n",
       "      <td>25.0</td>\n",
       "      <td>1000.0</td>\n",
       "      <td>132.35</td>\n",
       "      <td>95.0</td>\n",
       "    </tr>\n",
       "    <tr>\n",
       "      <th>Loft</th>\n",
       "      <td>40</td>\n",
       "      <td>25.0</td>\n",
       "      <td>425.0</td>\n",
       "      <td>135.70</td>\n",
       "      <td>102.5</td>\n",
       "    </tr>\n",
       "    <tr>\n",
       "      <th>Other</th>\n",
       "      <td>22</td>\n",
       "      <td>39.0</td>\n",
       "      <td>170.0</td>\n",
       "      <td>94.68</td>\n",
       "      <td>86.5</td>\n",
       "    </tr>\n",
       "    <tr>\n",
       "      <th>Tent</th>\n",
       "      <td>5</td>\n",
       "      <td>25.0</td>\n",
       "      <td>65.0</td>\n",
       "      <td>54.00</td>\n",
       "      <td>65.0</td>\n",
       "    </tr>\n",
       "    <tr>\n",
       "      <th>Townhouse</th>\n",
       "      <td>118</td>\n",
       "      <td>28.0</td>\n",
       "      <td>498.0</td>\n",
       "      <td>129.46</td>\n",
       "      <td>97.0</td>\n",
       "    </tr>\n",
       "    <tr>\n",
       "      <th>Treehouse</th>\n",
       "      <td>3</td>\n",
       "      <td>48.0</td>\n",
       "      <td>200.0</td>\n",
       "      <td>101.00</td>\n",
       "      <td>55.0</td>\n",
       "    </tr>\n",
       "    <tr>\n",
       "      <th>Yurt</th>\n",
       "      <td>1</td>\n",
       "      <td>100.0</td>\n",
       "      <td>100.0</td>\n",
       "      <td>100.00</td>\n",
       "      <td>100.0</td>\n",
       "    </tr>\n",
       "  </tbody>\n",
       "</table>\n",
       "</div>"
      ],
      "text/plain": [
       "                        price                              \n",
       "                            N    min     max    mean median\n",
       "city    property_type                                      \n",
       "Boston  Apartment        2612   10.0  4000.0  181.97  159.0\n",
       "        Bed & Breakfast    41   44.0   350.0  129.37  100.0\n",
       "        Boat               12  175.0   425.0  268.83  262.5\n",
       "        Camper/RV           1   60.0    60.0   60.00   60.0\n",
       "        Condominium       231   30.0   700.0  190.25  160.0\n",
       "        Dorm                2   50.0    75.0   62.50   62.5\n",
       "        Entire Floor        4   80.0   155.0  122.00  126.5\n",
       "        Guesthouse          1  289.0   289.0  289.00  289.0\n",
       "        House             562   20.0  1300.0  131.60   84.5\n",
       "        Loft               39   30.0   500.0  185.41  166.0\n",
       "        Other              17   40.0   500.0  229.94  218.0\n",
       "        Townhouse          54   44.0   700.0  149.04   99.0\n",
       "        Villa               6   40.0   400.0  189.50  170.0\n",
       "Seattle Apartment        1708   20.0   999.0  122.93  110.0\n",
       "        Bed & Breakfast    37   30.0   299.0  112.05   99.0\n",
       "        Boat                8   75.0   775.0  282.38  150.0\n",
       "        Bungalow           13   65.0   349.0  115.62   95.0\n",
       "        Cabin              21   52.0   300.0  104.67   95.0\n",
       "        Camper/RV          13   45.0   375.0  120.46   82.0\n",
       "        Chalet              2   62.0   135.0   98.50   98.5\n",
       "        Condominium        91   50.0   700.0  151.11  115.0\n",
       "        Dorm                2   38.0    41.0   39.50   39.5\n",
       "        House            1733   25.0  1000.0  132.35   95.0\n",
       "        Loft               40   25.0   425.0  135.70  102.5\n",
       "        Other              22   39.0   170.0   94.68   86.5\n",
       "        Tent                5   25.0    65.0   54.00   65.0\n",
       "        Townhouse         118   28.0   498.0  129.46   97.0\n",
       "        Treehouse           3   48.0   200.0  101.00   55.0\n",
       "        Yurt                1  100.0   100.0  100.00  100.0"
      ]
     },
     "execution_count": 20,
     "metadata": {},
     "output_type": "execute_result"
    }
   ],
   "source": [
    "aggregation = {\"price\":{\"N\": \"count\",\n",
    "                        \"min\": \"min\",\n",
    "                        \"max\": \"max\",\n",
    "                       \"mean\": \"mean\",\n",
    "                       \"median\": \"median\"}\n",
    "              }\n",
    "\n",
    "pd.DataFrame(data_select.groupby([\"city\", \"property_type\"]).agg(aggregation)).round(2)"
   ]
  },
  {
   "cell_type": "code",
   "execution_count": 21,
   "metadata": {},
   "outputs": [
    {
     "data": {
      "image/png": "[encoded data removed]",
      "text/plain": [
       "<Figure size 1200x480 with 1 Axes>"
      ]
     },
     "metadata": {},
     "output_type": "display_data"
    }
   ],
   "source": [
    "fig = plt.figure(num=None, figsize=(15, 6), dpi=80, facecolor='w', edgecolor='k')\n",
    "fig = sns.boxplot(x = \"property_type\", y = \"price\", hue = \"city\", data = data_select)\n",
    "fig.set_ylim([0, 700])\n",
    "for tick in fig.get_xticklabels():\n",
    "    tick.set_rotation(30)"
   ]
  },
  {
   "cell_type": "markdown",
   "metadata": {},
   "source": [
    "### Evaluate the Results\n",
    "* Except house, prices of other types of property in Boston are tend to be higher than those in Seattle.\n",
    "* Most AirBNB homes are apartments, Condominium in two cities.\n",
    "* Boat is most expensive property type among all property types in Seattle. Guesthouse is most expensive property type among all property types in Boston.\n",
    "* Some types of homes even don't exist in Boston."
   ]
  },
  {
   "cell_type": "markdown",
   "metadata": {},
   "source": [
    "##  Q3 Can we use selected variables to predict the price?\n",
    "### Business Understanding\n",
    "We also want to know what decide the price and can we use the variables we have to predict the price.\n",
    "\n",
    "### Data Understanding\n",
    "We can use the linear regression and ElasticNet to build models to predict the price.\n",
    "\n",
    "###  Prepare Data"
   ]
  },
  {
   "cell_type": "code",
   "execution_count": 22,
   "metadata": {},
   "outputs": [
    {
     "name": "stdout",
     "output_type": "stream",
     "text": [
      "<class 'pandas.core.frame.DataFrame'>\n",
      "Int64Index: 7403 entries, 0 to 3817\n",
      "Data columns (total 18 columns):\n",
      "host_location           7384 non-null object\n",
      "host_response_time      6409 non-null object\n",
      "host_response_rate      6409 non-null float64\n",
      "host_acceptance_rate    6159 non-null float64\n",
      "host_listings_count     7401 non-null float64\n",
      "property_type           7399 non-null object\n",
      "room_type               7403 non-null object\n",
      "accommodates            7403 non-null int64\n",
      "bathrooms               7373 non-null float64\n",
      "bedrooms                7387 non-null float64\n",
      "beds                    7393 non-null float64\n",
      "bed_type                7403 non-null object\n",
      "price                   7403 non-null float64\n",
      "guests_included         7403 non-null int64\n",
      "extra_people            7403 non-null float64\n",
      "cancellation_policy     7403 non-null object\n",
      "review_scores_rating    5943 non-null float64\n",
      "city                    7403 non-null object\n",
      "dtypes: float64(9), int64(2), object(7)\n",
      "memory usage: 1.2+ MB\n"
     ]
    }
   ],
   "source": [
    "data_select.info()"
   ]
  },
  {
   "cell_type": "code",
   "execution_count": 23,
   "metadata": {},
   "outputs": [],
   "source": [
    "## Too many locations, drop location\n",
    "data_select = data_select.drop(columns=\"host_location\")"
   ]
  },
  {
   "cell_type": "code",
   "execution_count": 24,
   "metadata": {},
   "outputs": [],
   "source": [
    "from sklearn.impute import SimpleImputer\n",
    "fill_NaN = SimpleImputer(missing_values=np.nan, strategy='most_frequent')\n",
    "imputed_DF = pd.DataFrame(fill_NaN.fit_transform(data_select))\n",
    "imputed_DF.columns = data_select.columns\n",
    "imputed_DF.index = data_select.index"
   ]
  },
  {
   "cell_type": "code",
   "execution_count": 25,
   "metadata": {
    "scrolled": true
   },
   "outputs": [
    {
     "name": "stdout",
     "output_type": "stream",
     "text": [
      "<class 'pandas.core.frame.DataFrame'>\n",
      "Int64Index: 7403 entries, 0 to 3817\n",
      "Data columns (total 17 columns):\n",
      "host_response_time      7403 non-null object\n",
      "host_response_rate      7403 non-null object\n",
      "host_acceptance_rate    7403 non-null object\n",
      "host_listings_count     7403 non-null object\n",
      "property_type           7403 non-null object\n",
      "room_type               7403 non-null object\n",
      "accommodates            7403 non-null object\n",
      "bathrooms               7403 non-null object\n",
      "bedrooms                7403 non-null object\n",
      "beds                    7403 non-null object\n",
      "bed_type                7403 non-null object\n",
      "price                   7403 non-null object\n",
      "guests_included         7403 non-null object\n",
      "extra_people            7403 non-null object\n",
      "cancellation_policy     7403 non-null object\n",
      "review_scores_rating    7403 non-null object\n",
      "city                    7403 non-null object\n",
      "dtypes: object(17)\n",
      "memory usage: 1.2+ MB\n"
     ]
    }
   ],
   "source": [
    "imputed_DF.info()"
   ]
  },
  {
   "cell_type": "code",
   "execution_count": 26,
   "metadata": {},
   "outputs": [
    {
     "data": {
      "text/plain": [
       "Index(['host_response_time', 'host_response_rate', 'host_acceptance_rate',\n",
       "       'host_listings_count', 'property_type', 'room_type', 'accommodates',\n",
       "       'bathrooms', 'bedrooms', 'beds', 'bed_type', 'price', 'guests_included',\n",
       "       'extra_people', 'cancellation_policy', 'review_scores_rating', 'city'],\n",
       "      dtype='object')"
      ]
     },
     "execution_count": 26,
     "metadata": {},
     "output_type": "execute_result"
    }
   ],
   "source": [
    "imputed_DF.columns"
   ]
  },
  {
   "cell_type": "code",
   "execution_count": 27,
   "metadata": {},
   "outputs": [],
   "source": [
    "## As the distribution of price is right-skewed, we use log transformation.\n",
    "imputed_DF.price = np.log(imputed_DF[\"price\"].astype(float))"
   ]
  },
  {
   "cell_type": "code",
   "execution_count": 28,
   "metadata": {},
   "outputs": [],
   "source": [
    "## change categorical variables into dummy variable\n",
    "cat = [\"host_response_time\", \"property_type\", \"room_type\", \"bed_type\", \"cancellation_policy\", \"city\"]\n",
    "df_dummy = pd.get_dummies(imputed_DF[cat])\n",
    "imputed_DF_dummy = pd.concat([imputed_DF, df_dummy], axis=1)\n"
   ]
  },
  {
   "cell_type": "code",
   "execution_count": 29,
   "metadata": {},
   "outputs": [],
   "source": [
    "imputed_DF_dummy.drop(cat, inplace=True, axis=1)"
   ]
  },
  {
   "cell_type": "code",
   "execution_count": 30,
   "metadata": {},
   "outputs": [],
   "source": [
    "final_DF = imputed_DF_dummy"
   ]
  },
  {
   "cell_type": "code",
   "execution_count": 31,
   "metadata": {},
   "outputs": [],
   "source": [
    "# Split data into training and test data, and fit a linear model\n",
    "from sklearn.model_selection import train_test_split\n",
    "y = final_DF.price.values\n",
    "X = final_DF.drop(\"price\", axis=1).values\n",
    "X_train, X_test, y_train, y_test = train_test_split(X, y , test_size=.30, random_state=42)"
   ]
  },
  {
   "cell_type": "markdown",
   "metadata": {},
   "source": [
    "###  Data Modeling"
   ]
  },
  {
   "cell_type": "code",
   "execution_count": 32,
   "metadata": {},
   "outputs": [
    {
     "data": {
      "text/plain": [
       "0.6203475752368098"
      ]
     },
     "execution_count": 32,
     "metadata": {},
     "output_type": "execute_result"
    }
   ],
   "source": [
    "# fit a simple linear regression\n",
    "from sklearn.linear_model import LinearRegression\n",
    "linear = LinearRegression()\n",
    "linear.fit(X_train, y_train) \n",
    "y_predict2 = linear.predict(X_test)\n",
    "r2_score(y_test, y_predict2)"
   ]
  },
  {
   "cell_type": "code",
   "execution_count": 33,
   "metadata": {},
   "outputs": [
    {
     "data": {
      "text/plain": [
       "ElasticNetCV(alphas=None, copy_X=True, cv=5, eps=0.001, fit_intercept=True,\n",
       "       l1_ratio=0.5, max_iter=1000, n_alphas=100, n_jobs=None,\n",
       "       normalize=True, positive=False, precompute='auto', random_state=0,\n",
       "       selection='cyclic', tol=0.0001, verbose=0)"
      ]
     },
     "execution_count": 33,
     "metadata": {},
     "output_type": "execute_result"
    }
   ],
   "source": [
    "# fit a ElasticNet model to avoid overfitting\n",
    "from sklearn.linear_model import ElasticNetCV\n",
    "regr = ElasticNetCV(cv=5, random_state=0, normalize=True)\n",
    "regr.fit(X_train, y_train) "
   ]
  },
  {
   "cell_type": "code",
   "execution_count": 34,
   "metadata": {},
   "outputs": [],
   "source": [
    "y_predict = regr.predict(X_test)"
   ]
  },
  {
   "cell_type": "code",
   "execution_count": 35,
   "metadata": {},
   "outputs": [
    {
     "data": {
      "text/plain": [
       "0.6198818646968127"
      ]
     },
     "execution_count": 35,
     "metadata": {},
     "output_type": "execute_result"
    }
   ],
   "source": [
    "from sklearn.metrics import r2_score, mean_squared_error\n",
    "r2_score(y_test, y_predict)"
   ]
  },
  {
   "cell_type": "markdown",
   "metadata": {},
   "source": [
    "### Evaluate the Results\n",
    "* The R squared of test dataset for multivariate linear regression is 0.62\n",
    "* The R squared of test dataset for ElasticNet is 0.62 which is  approximately same as it for linear regression.\n",
    "* Two models are underfitted. There are some other important variables that are not taken into consideration in this condition. We can not only use these variables of interest (city, property_type, review score and etc.) to predict the price of AirBNB homes."
   ]
  },
  {
   "cell_type": "code",
   "execution_count": null,
   "metadata": {},
   "outputs": [],
   "source": []
  }
 ],
 "metadata": {
  "kernelspec": {
   "display_name": "Python 3",
   "language": "python",
   "name": "python3"
  },
  "language_info": {
   "codemirror_mode": {
    "name": "ipython",
    "version": 3
   },
   "file_extension": ".py",
   "mimetype": "text/x-python",
   "name": "python",
   "nbconvert_exporter": "python",
   "pygments_lexer": "ipython3",
   "version": "3.7.1"
  }
 },
 "nbformat": 4,
 "nbformat_minor": 2
}
